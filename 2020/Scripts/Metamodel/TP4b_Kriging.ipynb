{
 "cells": [
  {
   "cell_type": "code",
   "execution_count": 1,
   "metadata": {},
   "outputs": [],
   "source": [
    "import openturns as ot\n",
    "from openturns.viewer import View\n",
    "import numpy as np\n",
    "from matplotlib import pylab as plt"
   ]
  },
  {
   "cell_type": "markdown",
   "metadata": {},
   "source": [
    "# Step A: define the physical model"
   ]
  },
  {
   "cell_type": "code",
   "execution_count": 2,
   "metadata": {},
   "outputs": [],
   "source": [
    "model = ot.SymbolicFunction([\"F\", \"E\", \"L\", \"I\"], [\"F*L^3/(3*E*I)\"])\n",
    "model = ot.MemoizeFunction(model)\n",
    "model.enableCache()"
   ]
  },
  {
   "cell_type": "markdown",
   "metadata": {},
   "source": [
    "# Step B: specify the input random vector # "
   ]
  },
  {
   "cell_type": "code",
   "execution_count": 3,
   "metadata": {},
   "outputs": [],
   "source": [
    "sample_E = ot.Sample.ImportFromCSVFile(\"sample_E.csv\")\n",
    "kernel_smoothing = ot.KernelSmoothing(ot.Normal())\n",
    "bandwidth = kernel_smoothing.computeSilvermanBandwidth(sample_E)\n",
    "E = kernel_smoothing.build(sample_E, bandwidth)\n",
    "E.setDescription([\"Young modulus\"])"
   ]
  },
  {
   "cell_type": "code",
   "execution_count": 4,
   "metadata": {},
   "outputs": [],
   "source": [
    "F = ot.LogNormal()\n",
    "F.setParameter(ot.LogNormalMuSigma()([30000, 9000, 15000]))\n",
    "F.setDescription([\"Load\"])"
   ]
  },
  {
   "cell_type": "code",
   "execution_count": 5,
   "metadata": {},
   "outputs": [],
   "source": [
    "L = ot.Uniform(250, 260)\n",
    "L.setDescription([\"Length\"])"
   ]
  },
  {
   "cell_type": "code",
   "execution_count": 6,
   "metadata": {},
   "outputs": [],
   "source": [
    "I = ot.Beta(2.5, 4, 310, 450)\n",
    "I.setDescription([\"Inertia\"])"
   ]
  },
  {
   "cell_type": "code",
   "execution_count": 7,
   "metadata": {},
   "outputs": [],
   "source": [
    "marginal_distributions = [F, E, L, I]"
   ]
  },
  {
   "cell_type": "code",
   "execution_count": 8,
   "metadata": {},
   "outputs": [],
   "source": [
    "SR_cor = ot.CorrelationMatrix(len(marginal_distributions))\n",
    "SR_cor[2, 3] = -0.2\n",
    "copula = ot.NormalCopula(ot.NormalCopula.GetCorrelationFromSpearmanCorrelation(SR_cor))"
   ]
  },
  {
   "cell_type": "code",
   "execution_count": 9,
   "metadata": {},
   "outputs": [],
   "source": [
    "input_distribution = ot.ComposedDistribution(marginal_distributions, copula)\n",
    "dimension = input_distribution.getDimension()"
   ]
  },
  {
   "cell_type": "code",
   "execution_count": 10,
   "metadata": {},
   "outputs": [],
   "source": [
    "input_random_vector = ot.RandomVector(input_distribution)"
   ]
  },
  {
   "cell_type": "markdown",
   "metadata": {},
   "source": [
    "# Step C: uncertainty propagation\n",
    "\n",
    "A kriging metamodel is used.\n",
    "\n",
    "## Specification of the basis\n",
    "\n",
    "We can use existing basis factory : ConstantBasisFactory, LinearBasisFactory, QuadraticBasisFactory, or create our own basis using a collection of NumericalMathFunction and transform it into a basis."
   ]
  },
  {
   "cell_type": "code",
   "execution_count": 11,
   "metadata": {},
   "outputs": [
    {
     "name": "stdout",
     "output_type": "stream",
     "text": [
      "Basis( [class=LinearEvaluation name=Unnamed center=[0,0,0,0] constant=[1] linear=[[ 0 ]\n",
      " [ 0 ]\n",
      " [ 0 ]\n",
      " [ 0 ]]] )\n"
     ]
    }
   ],
   "source": [
    "basis = ot.ConstantBasisFactory(dimension).build()\n",
    "print(basis)"
   ]
  },
  {
   "cell_type": "markdown",
   "metadata": {},
   "source": [
    "## Choice of the Design of Experiment\n",
    "\n",
    "We can choose a Monte Carlo DOE or a more space filling DOE."
   ]
  },
  {
   "cell_type": "code",
   "execution_count": 12,
   "metadata": {},
   "outputs": [],
   "source": [
    "design_of_experiments = ot.MonteCarloExperiment(input_distribution, 100)\n",
    "input_sample = design_of_experiments.generate()\n",
    "output_sample = model(input_sample)"
   ]
  },
  {
   "cell_type": "code",
   "execution_count": 13,
   "metadata": {},
   "outputs": [],
   "source": [
    "# normalization if needed: linear transformation\n",
    "mean = input_sample.computeMean()\n",
    "stddev = input_sample.computeStandardDeviationPerComponent()\n",
    "linear = ot.SquareMatrix(dimension)\n",
    "\n",
    "for j in range(dimension):\n",
    "    linear[j, j] = 1.0 / stddev[j] if abs(stddev[j]) > 1e-12 else 1.0\n",
    "zero = [0.0] * dimension\n",
    "\n",
    "transformation = ot.LinearFunction(mean, zero, linear)\n",
    "\n",
    "normalized_inputSample = transformation(input_sample)"
   ]
  },
  {
   "cell_type": "markdown",
   "metadata": {},
   "source": [
    "## Specification of the covariance model\n",
    "\n",
    "The covariance model can be a model of dimension corresponding of the input dimension. Or it can be a product covariance model where each input has its own covariance mode of dimension 1. If the output dimension is greater than 1, the user can provide a tensorized covariance model."
   ]
  },
  {
   "cell_type": "code",
   "execution_count": 14,
   "metadata": {},
   "outputs": [],
   "source": [
    "# we create a product covariance model where each input has its own covariance model\n",
    "covColl = ot.CovarianceModelCollection(dimension)\n",
    "for i in range(dimension):\n",
    "    covColl[i] = ot.SquaredExponential([1])\n",
    "covarianceModel = ot.ProductCovarianceModel(covColl)"
   ]
  },
  {
   "cell_type": "code",
   "execution_count": 15,
   "metadata": {},
   "outputs": [
    {
     "data": {
      "text/html": [
       "<p>[83949.1,4.52164e+07,259.83,433.689]</p>"
      ],
      "text/plain": [
       "class=Point name=Unnamed dimension=4 values=[83949.1,4.52164e+07,259.83,433.689]"
      ]
     },
     "execution_count": 15,
     "metadata": {},
     "output_type": "execute_result"
    }
   ],
   "source": [
    "covarianceModel.setScale(input_sample.getMax())  # Trick A\n",
    "covarianceModel.getScale()"
   ]
  },
  {
   "cell_type": "markdown",
   "metadata": {},
   "source": [
    "## Running the kriging algorithm"
   ]
  },
  {
   "cell_type": "code",
   "execution_count": 16,
   "metadata": {},
   "outputs": [],
   "source": [
    "kriging_algorithm = ot.KrigingAlgorithm(\n",
    "    input_sample, output_sample, covarianceModel, basis\n",
    ")\n",
    "# set the global optimization algorithm to improve the optimization result\n",
    "kriging_algorithm.setOptimizationAlgorithm(ot.NLopt(\"GN_DIRECT\"))\n",
    "scaleOptimizationBounds = ot.Interval(input_sample.getMin(), input_sample.getMax())\n",
    "kriging_algorithm.setOptimizationBounds(scaleOptimizationBounds)  # Trick B\n",
    "kriging_algorithm.run()"
   ]
  },
  {
   "cell_type": "code",
   "execution_count": 17,
   "metadata": {},
   "outputs": [
    {
     "name": "stdout",
     "output_type": "stream",
     "text": [
      "Covariance model parameters : [83544.3,3.22669e+07,250.236,413.599]\n",
      "Covariance model amplitude : [88.9545]\n"
     ]
    }
   ],
   "source": [
    "kriging_result = kriging_algorithm.getResult()\n",
    "metamodel = kriging_result.getMetaModel()\n",
    "covarianceModel = kriging_result.getCovarianceModel()\n",
    "print(\n",
    "    \"Covariance model parameters : {}\".format(\n",
    "        kriging_result.getCovarianceModel().getScale()\n",
    "    )\n",
    ")\n",
    "print(\n",
    "    \"Covariance model amplitude : {}\".format(\n",
    "        kriging_result.getCovarianceModel().getAmplitude()\n",
    "    )\n",
    ")"
   ]
  },
  {
   "cell_type": "markdown",
   "metadata": {},
   "source": [
    "## Assess the metamodel goodness-of-fit"
   ]
  },
  {
   "cell_type": "code",
   "execution_count": 18,
   "metadata": {},
   "outputs": [],
   "source": [
    "def computeLOO(inputSample, outputSample, krigingResult):\n",
    "    \"\"\"\n",
    "    Compute the Leave One out prediction analytically (from Dubrule 1983 paper).\n",
    "    \"\"\"\n",
    "    inputSample = np.array(inputSample)\n",
    "    outputSample = np.array(outputSample)\n",
    "\n",
    "    # get covariance model\n",
    "    cov = krigingResult.getCovarianceModel()\n",
    "    # get coefficient and compute trend\n",
    "    basis = krigingResult.getBasisCollection()[0]\n",
    "    F1 = krigingResult.getTrendCoefficients()[0]\n",
    "    size = inputSample.shape[0]\n",
    "    p = F1.getDimension()\n",
    "    F = np.ones((size, p))\n",
    "    for i in range(p):\n",
    "        F[:, i] = np.hstack(basis.build(i)(normalized_inputSample))\n",
    "    # Calcul de y_loo\n",
    "    K = np.array(cov.discretize(normalized_inputSample))\n",
    "    Z = np.zeros((p, p))\n",
    "    S = np.vstack([np.hstack([K, F]), np.hstack([F.T, Z])])\n",
    "    S_inv = np.linalg.inv(S)\n",
    "    B = S_inv[:size:, :size:]\n",
    "    B_but_its_diag = B * (np.ones(B.shape) - np.eye(size))\n",
    "    B_diag = np.atleast_2d(np.diag(B)).T\n",
    "    y_loo = (-np.dot(B_but_its_diag / B_diag, outputSample)).ravel()\n",
    "    return ot.Sample(np.vstack(y_loo))"
   ]
  },
  {
   "cell_type": "code",
   "execution_count": 19,
   "metadata": {},
   "outputs": [],
   "source": [
    "def computeQ2(inputSample, outputSample, krigingResult):\n",
    "    \"\"\"\n",
    "    Compute the Q2 using the analytical loo prediction.\n",
    "    \"\"\"\n",
    "    y_loo = np.hstack(computeLOO(inputSample, outputSample, krigingResult))\n",
    "    # Calcul du Q2\n",
    "    delta = np.hstack(outputSample) - y_loo\n",
    "    Q2 = 1 - np.mean(delta ** 2) / np.var(outputSample)\n",
    "    return Q2"
   ]
  },
  {
   "cell_type": "markdown",
   "metadata": {},
   "source": [
    "As kriging is an interpolating technique, R2 value is 1 so it does not provide good information about the kriging model quality. It is more relevant to compute the Q2 using the leave-one out prediction."
   ]
  },
  {
   "cell_type": "code",
   "execution_count": 20,
   "metadata": {},
   "outputs": [
    {
     "name": "stdout",
     "output_type": "stream",
     "text": [
      "R2 :  [1]\n",
      "Q2 :  0.9478282544265058\n"
     ]
    }
   ],
   "source": [
    "validation = ot.MetaModelValidation(input_sample, output_sample, metamodel)\n",
    "print(\"R2 : \", validation.computePredictivityFactor())\n",
    "print(\"Q2 : \", computeQ2(input_sample, output_sample, kriging_result))"
   ]
  },
  {
   "cell_type": "markdown",
   "metadata": {},
   "source": [
    "### Adequation plot on leave-one out predictions"
   ]
  },
  {
   "cell_type": "code",
   "execution_count": 21,
   "metadata": {},
   "outputs": [
    {
     "name": "stderr",
     "output_type": "stream",
     "text": [
      "/home/devel/miniconda3/envs/othpcuqtraining/lib/python3.8/site-packages/openturns/viewer.py:558: UserWarning: Matplotlib is currently using module://ipykernel.pylab.backend_inline, which is a non-GUI backend, so cannot show the figure.\n",
      "  self._fig.show(**kwargs)\n"
     ]
    },
    {
     "data": {
      "image/png": "[encoded data removed]",
      "text/plain": [
       "<Figure size 432x288 with 1 Axes>"
      ]
     },
     "metadata": {
      "needs_background": "light"
     },
     "output_type": "display_data"
    }
   ],
   "source": [
    "output_LOO = computeLOO(input_sample, output_sample, kriging_result)\n",
    "validation = ot.MetaModelValidation(input_sample, output_LOO, metamodel)\n",
    "View(validation.drawValidation()).show()"
   ]
  },
  {
   "cell_type": "markdown",
   "metadata": {},
   "source": [
    "### Superposition of the model and the metamodel in 1D cuts"
   ]
  },
  {
   "cell_type": "code",
   "execution_count": 22,
   "metadata": {},
   "outputs": [
    {
     "data": {
      "image/png": "[encoded data removed]",
      "text/plain": [
       "class=Graph name=Model and metamodel implementation=class=GraphImplementation name=Model and metamodel title=Model and metamodel xTitle=Inertia yTitle=y0 axes=ON grid=ON legendposition=topright legendFontSize=1 drawables=[class=Drawable name=Unnamed implementation=class=Curve name=Unnamed derived from class=DrawableImplementation name=Unnamed legend=Model data=class=Sample name=Unnamed implementation=class=SampleImplementation name=Unnamed size=100 dimension=2 data=[[321.853,15.2087],[322.795,15.1643],[323.737,15.1202],[324.678,15.0763],[325.62,15.0327],[326.562,14.9894],[327.504,14.9463],[328.446,14.9034],[329.388,14.8608],[330.329,14.8184],[331.271,14.7763],[332.213,14.7344],[333.155,14.6928],[334.097,14.6513],[335.039,14.6101],[335.98,14.5692],[336.922,14.5285],[337.864,14.488],[338.806,14.4477],[339.748,14.4076],[340.69,14.3678],[341.631,14.3282],[342.573,14.2888],[343.515,14.2496],[344.457,14.2107],[345.399,14.1719],[346.341,14.1334],[347.282,14.0951],[348.224,14.0569],[349.166,14.019],[350.108,13.9813],[351.05,13.9438],[351.991,13.9065],[352.933,13.8694],[353.875,13.8325],[354.817,13.7957],[355.759,13.7592],[356.701,13.7229],[357.642,13.6867],[358.584,13.6508],[359.526,13.615],[360.468,13.5795],[361.41,13.5441],[362.352,13.5089],[363.293,13.4739],[364.235,13.439],[365.177,13.4044],[366.119,13.3699],[367.061,13.3356],[368.003,13.3014],[368.944,13.2675],[369.886,13.2337],[370.828,13.2001],[371.77,13.1666],[372.712,13.1334],[373.654,13.1003],[374.595,13.0673],[375.537,13.0346],[376.479,13.002],[377.421,12.9695],[378.363,12.9372],[379.305,12.9051],[380.246,12.8731],[381.188,12.8413],[382.13,12.8097],[383.072,12.7782],[384.014,12.7468],[384.956,12.7157],[385.897,12.6846],[386.839,12.6537],[387.781,12.623],[388.723,12.5924],[389.665,12.562],[390.607,12.5317],[391.548,12.5016],[392.49,12.4716],[393.432,12.4417],[394.374,12.412],[395.316,12.3824],[396.258,12.353],[397.199,12.3237],[398.141,12.2945],[399.083,12.2655],[400.025,12.2366],[400.967,12.2079],[401.909,12.1793],[402.85,12.1508],[403.792,12.1225],[404.734,12.0943],[405.676,12.0662],[406.618,12.0382],[407.56,12.0104],[408.501,11.9827],[409.443,11.9552],[410.385,11.9277],[411.327,11.9004],[412.269,11.8732],[413.211,11.8462],[414.152,11.8192],[415.094,11.7924]] color=blue fillStyle=solid lineStyle=solid pointStyle=none lineWidth=1,class=Drawable name=Unnamed implementation=class=Curve name=Unnamed derived from class=DrawableImplementation name=Unnamed legend=Metamodel data=class=Sample name=Unnamed implementation=class=SampleImplementation name=Unnamed size=100 dimension=2 data=[[321.853,15.2093],[322.795,15.1649],[323.737,15.1208],[324.678,15.0769],[325.62,15.0333],[326.562,14.9899],[327.504,14.9468],[328.446,14.9039],[329.388,14.8612],[330.329,14.8188],[331.271,14.7767],[332.213,14.7348],[333.155,14.6931],[334.097,14.6516],[335.039,14.6104],[335.98,14.5694],[336.922,14.5287],[337.864,14.4882],[338.806,14.4479],[339.748,14.4078],[340.69,14.3679],[341.631,14.3283],[342.573,14.2889],[343.515,14.2497],[344.457,14.2107],[345.399,14.1719],[346.341,14.1334],[347.282,14.095],[348.224,14.0569],[349.166,14.019],[350.108,13.9812],[351.05,13.9437],[351.991,13.9064],[352.933,13.8693],[353.875,13.8324],[354.817,13.7957],[355.759,13.7591],[356.701,13.7228],[357.642,13.6867],[358.584,13.6507],[359.526,13.615],[360.468,13.5794],[361.41,13.544],[362.352,13.5088],[363.293,13.4738],[364.235,13.439],[365.177,13.4043],[366.119,13.3699],[367.061,13.3356],[368.003,13.3014],[368.944,13.2675],[369.886,13.2337],[370.828,13.2001],[371.77,13.1667],[372.712,13.1335],[373.654,13.1004],[374.595,13.0674],[375.537,13.0347],[376.479,13.0021],[377.421,12.9697],[378.363,12.9374],[379.305,12.9053],[380.246,12.8733],[381.188,12.8415],[382.13,12.8099],[383.072,12.7784],[384.014,12.747],[384.956,12.7159],[385.897,12.6848],[386.839,12.6539],[387.781,12.6232],[388.723,12.5926],[389.665,12.5622],[390.607,12.5319],[391.548,12.5017],[392.49,12.4717],[393.432,12.4418],[394.374,12.4121],[395.316,12.3825],[396.258,12.3531],[397.199,12.3237],[398.141,12.2946],[399.083,12.2655],[400.025,12.2366],[400.967,12.2078],[401.909,12.1792],[402.85,12.1506],[403.792,12.1222],[404.734,12.094],[405.676,12.0658],[406.618,12.0378],[407.56,12.0099],[408.501,11.9822],[409.443,11.9545],[410.385,11.927],[411.327,11.8996],[412.269,11.8723],[413.211,11.8452],[414.152,11.8182],[415.094,11.7912]] color=red fillStyle=solid lineStyle=solid pointStyle=none lineWidth=1]"
      ]
     },
     "execution_count": 22,
     "metadata": {},
     "output_type": "execute_result"
    }
   ],
   "source": [
    "input_number = 3\n",
    "input_margin = input_distribution.getMarginal(input_number)\n",
    "model_cut = model.draw(\n",
    "    input_number,\n",
    "    0,\n",
    "    input_distribution.getMean(),\n",
    "    input_margin.computeQuantile(0.025)[0],\n",
    "    input_margin.computeQuantile(0.975)[0],\n",
    "    100,\n",
    ").getDrawable(0)\n",
    "metamodel_cut = metamodel.draw(\n",
    "    input_number,\n",
    "    0,\n",
    "    input_distribution.getMean(),\n",
    "    input_margin.computeQuantile(0.025)[0],\n",
    "    input_margin.computeQuantile(0.975)[0],\n",
    "    100,\n",
    ").getDrawable(0)\n",
    "\n",
    "graph = ot.Graph(\"Model and metamodel\", \"\", \"\", True)\n",
    "graph.add([model_cut, metamodel_cut])\n",
    "graph.setColors([\"blue\", \"red\"])\n",
    "graph.setLegends([\"Model\", \"Metamodel\"])\n",
    "graph.setXTitle(input_margin.getDescription()[0])\n",
    "graph.setYTitle(model.getOutputDescription()[0])\n",
    "graph.setLegendPosition(\"topright\")\n",
    "graph"
   ]
  },
  {
   "cell_type": "markdown",
   "metadata": {},
   "source": [
    "### Reliability analysis using a (large) Monte Carlo sample of the kriging approximation"
   ]
  },
  {
   "cell_type": "code",
   "execution_count": 23,
   "metadata": {},
   "outputs": [],
   "source": [
    "krigingRandomVector = ot.CompositeRandomVector(\n",
    "    metamodel, ot.RandomVector(input_distribution)\n",
    ")\n",
    "event = ot.ThresholdEvent(krigingRandomVector, ot.Greater(), 30.0)\n",
    "event.setName(\"Deviation > %s cm\" % event.getThreshold())"
   ]
  },
  {
   "cell_type": "markdown",
   "metadata": {},
   "source": [
    "### PDF and CDF approximations"
   ]
  },
  {
   "cell_type": "code",
   "execution_count": 24,
   "metadata": {},
   "outputs": [
    {
     "data": {
      "image/png": "[encoded data removed]",
      "text/plain": [
       "<Figure size 864x288 with 2 Axes>"
      ]
     },
     "metadata": {
      "needs_background": "light"
     },
     "output_type": "display_data"
    }
   ],
   "source": [
    "sample = krigingRandomVector.getSample(1000)\n",
    "fig = plt.figure(figsize=(12, 4))\n",
    "ax_pdf = fig.add_subplot(1, 2, 1)\n",
    "hist_E = ot.HistogramFactory().build(sample).drawPDF()\n",
    "hist_E.setColors([\"gray\"])\n",
    "hist_E.setLegends([\"Histogram\"])\n",
    "_ = View(hist_E, figure=fig, axes=[ax_pdf])\n",
    "ax_cdf = fig.add_subplot(1, 2, 2)\n",
    "ecdf_E = ot.UserDefined(sample).drawCDF()\n",
    "ecdf_E.setLegends([\"Empirical CDF\"])\n",
    "_ = View(ecdf_E, figure=fig, axes=[ax_cdf])"
   ]
  },
  {
   "cell_type": "code",
   "execution_count": 25,
   "metadata": {},
   "outputs": [],
   "source": [
    "experiment = ot.MonteCarloExperiment()\n",
    "MCS_algorithm = ot.ProbabilitySimulationAlgorithm(event, experiment)\n",
    "MCS_algorithm.setMaximumOuterSampling(1000)  # Increase to 10000 to get accurate results\n",
    "MCS_algorithm.setBlockSize(1)\n",
    "MCS_algorithm.setMaximumCoefficientOfVariation(0.1)\n",
    "MCS_algorithm.run()\n",
    "MCS_result = MCS_algorithm.getResult()"
   ]
  },
  {
   "cell_type": "code",
   "execution_count": 26,
   "metadata": {},
   "outputs": [
    {
     "name": "stdout",
     "output_type": "stream",
     "text": [
      "Proability estimate = 8.00e-03\n",
      "Coefficient of variation = 0.35\n",
      "95% Confidence Interval = [2.48e-03, 1.35e-02]\n"
     ]
    }
   ],
   "source": [
    "print(\"Proability estimate = %.2e\" % MCS_result.getProbabilityEstimate())\n",
    "print(\"Coefficient of variation = %.2f\" % MCS_result.getCoefficientOfVariation())\n",
    "print(\n",
    "    \"95%% Confidence Interval = [%.2e, %.2e]\"\n",
    "    % (\n",
    "        MCS_result.getProbabilityEstimate()\n",
    "        - 0.5 * MCS_result.getConfidenceLength(0.95),\n",
    "        MCS_result.getProbabilityEstimate()\n",
    "        + 0.5 * MCS_result.getConfidenceLength(0.95),\n",
    "    )\n",
    ")"
   ]
  },
  {
   "cell_type": "code",
   "execution_count": 27,
   "metadata": {},
   "outputs": [
    {
     "data": {
      "image/png": "[encoded data removed]",
      "text/plain": [
       "<Figure size 432x288 with 1 Axes>"
      ]
     },
     "metadata": {
      "needs_background": "light"
     },
     "output_type": "display_data"
    }
   ],
   "source": [
    "_ = View(MCS_algorithm.drawProbabilityConvergence(0.95))"
   ]
  },
  {
   "cell_type": "code",
   "execution_count": null,
   "metadata": {},
   "outputs": [],
   "source": []
  }
 ],
 "metadata": {
  "css": [
   ""
  ],
  "kernelspec": {
   "display_name": "Python 3",
   "language": "python",
   "name": "python3"
  },
  "language_info": {
   "codemirror_mode": {
    "name": "ipython",
    "version": 3
   },
   "file_extension": ".py",
   "mimetype": "text/x-python",
   "name": "python",
   "nbconvert_exporter": "python",
   "pygments_lexer": "ipython3",
   "version": "3.8.8"
  }
 },
 "nbformat": 4,
 "nbformat_minor": 1
}
