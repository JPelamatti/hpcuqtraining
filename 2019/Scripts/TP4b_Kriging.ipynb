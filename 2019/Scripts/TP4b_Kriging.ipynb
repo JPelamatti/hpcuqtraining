{
 "cells": [
  {
   "cell_type": "code",
   "execution_count": 71,
   "metadata": {},
   "outputs": [
    {
     "name": "stdout",
     "output_type": "stream",
     "text": [
      "Populating the interactive namespace from numpy and matplotlib\n"
     ]
    }
   ],
   "source": [
    "import openturns as ot\n",
    "from openturns.viewer import View\n",
    "import numpy as np\n",
    "import pylab as pl\n",
    "%pylab --no-import-all inline"
   ]
  },
  {
   "cell_type": "markdown",
   "metadata": {},
   "source": [
    "# Step A: define the physical model"
   ]
  },
  {
   "cell_type": "code",
   "execution_count": 72,
   "metadata": {},
   "outputs": [],
   "source": [
    "model = ot.SymbolicFunction([\"F\", \"E\", \"L\", \"I\"], [\"F*L^3/(3*E*I)\"])\n",
    "model = ot.MemoizeFunction(model)\n",
    "model.enableCache()"
   ]
  },
  {
   "cell_type": "markdown",
   "metadata": {},
   "source": [
    "# Step B: specify the input random vector # "
   ]
  },
  {
   "cell_type": "code",
   "execution_count": 73,
   "metadata": {},
   "outputs": [],
   "source": [
    "sample_E = ot.Sample.ImportFromCSVFile(\"sample_E.csv\") \n",
    "kernel_smoothing = ot.KernelSmoothing(ot.Normal())\n",
    "bandwidth = kernel_smoothing.computeSilvermanBandwidth(sample_E)\n",
    "E = kernel_smoothing.build(sample_E, bandwidth)\n",
    "E.setDescription(['Young modulus'])"
   ]
  },
  {
   "cell_type": "code",
   "execution_count": 74,
   "metadata": {},
   "outputs": [],
   "source": [
    "F = ot.LogNormal()\n",
    "F.setParameter(ot.LogNormalMuSigma()([30000, 9000, 15000]))\n",
    "F.setDescription(['Load'])"
   ]
  },
  {
   "cell_type": "code",
   "execution_count": 75,
   "metadata": {},
   "outputs": [],
   "source": [
    "L = ot.Uniform(250, 260)\n",
    "L.setDescription(['Length'])"
   ]
  },
  {
   "cell_type": "code",
   "execution_count": 76,
   "metadata": {},
   "outputs": [],
   "source": [
    "I = ot.Beta(2.5, 4, 310, 450)\n",
    "I.setDescription(['Inertia'])"
   ]
  },
  {
   "cell_type": "code",
   "execution_count": 77,
   "metadata": {},
   "outputs": [],
   "source": [
    "marginal_distributions = [F, E, L, I]"
   ]
  },
  {
   "cell_type": "code",
   "execution_count": 78,
   "metadata": {},
   "outputs": [],
   "source": [
    "SR_cor = ot.CorrelationMatrix(len(marginal_distributions))\n",
    "SR_cor[2, 3] = -0.2\n",
    "copula = ot.NormalCopula(ot.NormalCopula.GetCorrelationFromSpearmanCorrelation(SR_cor))"
   ]
  },
  {
   "cell_type": "code",
   "execution_count": 79,
   "metadata": {},
   "outputs": [],
   "source": [
    "input_distribution = ot.ComposedDistribution(marginal_distributions, copula)\n",
    "dimension = input_distribution.getDimension()"
   ]
  },
  {
   "cell_type": "code",
   "execution_count": 80,
   "metadata": {},
   "outputs": [],
   "source": [
    "input_random_vector = ot.RandomVector(input_distribution)"
   ]
  },
  {
   "cell_type": "markdown",
   "metadata": {},
   "source": [
    "# Step C: uncertainty propagation\n",
    "\n",
    "A kriging metamodel is used.\n",
    "\n",
    "## Specification of the basis\n",
    "\n",
    "We can use existing basis factory : ConstantBasisFactory, LinearBasisFactory, QuadraticBasisFactory, or create our own basis using a collection of NumericalMathFunction and transform it into a basis."
   ]
  },
  {
   "cell_type": "code",
   "execution_count": 81,
   "metadata": {},
   "outputs": [
    {
     "name": "stdout",
     "output_type": "stream",
     "text": [
      "Basis( [class=LinearEvaluation name=Unnamed center=[0,0,0,0] constant=[1] linear=[[ 0 ]\n",
      " [ 0 ]\n",
      " [ 0 ]\n",
      " [ 0 ]]] )\n"
     ]
    }
   ],
   "source": [
    "basis = ot.ConstantBasisFactory(dimension).build()\n",
    "print(basis)"
   ]
  },
  {
   "cell_type": "markdown",
   "metadata": {},
   "source": [
    "## Specification of the covariance model\n",
    "\n",
    "The covariance model can be a model of dimension corresponding of the input dimension. Or it can be a product covariance model where each input has its own covariance mode of dimension 1. If the output dimension is greater than 1, the user can provide a tensorized covariance model."
   ]
  },
  {
   "cell_type": "code",
   "execution_count": 82,
   "metadata": {},
   "outputs": [],
   "source": [
    "# we create a product covariance model where each input has its own covariance model\n",
    "covColl = ot.CovarianceModelCollection(dimension)\n",
    "for i in range(dimension):\n",
    "    covColl[i]  = ot.SquaredExponential([1])\n",
    "covarianceModel = ot.ProductCovarianceModel(covColl)"
   ]
  },
  {
   "cell_type": "raw",
   "metadata": {
    "collapsed": true
   },
   "source": [
    "theta = [11.1683,6.7588,62.9844,18.9356]\n",
    "covColl = ot.CovarianceModelCollection(dimension)\n",
    "for i in xrange(dimension):\n",
    "    covColl[i]  = ot.SquaredExponential([theta[i]])\n",
    "covarianceModel = ot.ProductCovarianceModel(covColl)\n",
    "covarianceModel.setAmplitude([59.6824])"
   ]
  },
  {
   "cell_type": "markdown",
   "metadata": {},
   "source": [
    "## Choice of the Design of Experiment\n",
    "\n",
    "We can choose a Monte Carlo DOE or a more space filling DOE."
   ]
  },
  {
   "cell_type": "code",
   "execution_count": 83,
   "metadata": {},
   "outputs": [],
   "source": [
    "design_of_experiments = ot.MonteCarloExperiment(input_distribution, 100)\n",
    "input_sample = design_of_experiments.generate()\n",
    "output_sample = model(input_sample)"
   ]
  },
  {
   "cell_type": "markdown",
   "metadata": {},
   "source": [
    "## Running the kriging algorithm"
   ]
  },
  {
   "cell_type": "code",
   "execution_count": 84,
   "metadata": {},
   "outputs": [],
   "source": [
    "kriging_algorithm = ot.KrigingAlgorithm(input_sample, output_sample, covarianceModel, basis)\n",
    "# set the global optimization algorithm to improve the optimization result\n",
    "kriging_algorithm.setOptimizationAlgorithm(ot.NLopt('GN_DIRECT'))\n",
    "#kriging_algorithm.setOptimizeParameters(False)\n",
    "# run\n",
    "kriging_algorithm.run()"
   ]
  },
  {
   "cell_type": "code",
   "execution_count": 85,
   "metadata": {},
   "outputs": [
    {
     "name": "stdout",
     "output_type": "stream",
     "text": [
      "Covariance model parameters : [7.53555,5.11089,6.62807,8.54664]\n",
      "Covariance model amplitude : [16.675]\n"
     ]
    }
   ],
   "source": [
    "kriging_result = kriging_algorithm.getResult()\n",
    "metamodel = kriging_result.getMetaModel()\n",
    "covarianceModel = kriging_result.getCovarianceModel()\n",
    "print( 'Covariance model parameters : {}'.format(kriging_result.getCovarianceModel().getScale()))\n",
    "print( 'Covariance model amplitude : {}'.format(kriging_result.getCovarianceModel().getAmplitude()))"
   ]
  },
  {
   "cell_type": "markdown",
   "metadata": {},
   "source": [
    "## Assess the metamodel goodness-of-fit"
   ]
  },
  {
   "cell_type": "code",
   "execution_count": 86,
   "metadata": {},
   "outputs": [],
   "source": [
    "def computeLOO(inputSample, outputSample, krigingResult):\n",
    "    \"\"\"\n",
    "    Compute the Leave One out prediction analytically (from Dubrule 1983 paper).\n",
    "    \"\"\"\n",
    "    inputSample = np.array(inputSample)\n",
    "    outputSample = np.array(outputSample)\n",
    "\n",
    "    # get covariance model\n",
    "    cov = krigingResult.getCovarianceModel()\n",
    "    # get input transformation\n",
    "    t = krigingResult.getTransformation()\n",
    "    # check if the transformation was enabled or not and if so transform\n",
    "    # the input sample\n",
    "    if t.getInputDimension() == inputSample.shape[1]:\n",
    "        normalized_inputSample = np.array(t(inputSample))\n",
    "    else:\n",
    "        normalized_inputSample = inputSample\n",
    "\n",
    "    # get coefficient and compute trend\n",
    "    basis = krigingResult.getBasisCollection()[0]\n",
    "    F1 = krigingResult.getTrendCoefficients()[0]\n",
    "    size = inputSample.shape[0]\n",
    "    p = F1.getDimension()\n",
    "    F = np.ones((size, p))\n",
    "    for i in range(p):\n",
    "        F[:, i] = np.hstack(basis.build(i)(normalized_inputSample))\n",
    "    # Calcul de y_loo\n",
    "    K = np.array(cov.discretize(normalized_inputSample))\n",
    "    Z = np.zeros((p, p))\n",
    "    S = np.vstack([np.hstack([K, F]), np.hstack([F.T, Z])])\n",
    "    S_inv = np.linalg.inv(S)\n",
    "    B = S_inv[:size:, :size:]\n",
    "    B_but_its_diag = B * (np.ones(B.shape) - np.eye(size))\n",
    "    B_diag = np.atleast_2d(np.diag(B)).T\n",
    "    y_loo = (- np.dot(B_but_its_diag / B_diag, outputSample)).ravel()\n",
    "    return ot.Sample(np.vstack(y_loo))"
   ]
  },
  {
   "cell_type": "code",
   "execution_count": 87,
   "metadata": {},
   "outputs": [],
   "source": [
    "def computeQ2(inputSample, outputSample, krigingResult):\n",
    "    \"\"\"\n",
    "    Compute the Q2 using the analytical loo prediction.\n",
    "    \"\"\"\n",
    "    y_loo = np.hstack(computeLOO(inputSample, outputSample, krigingResult))\n",
    "    # Calcul du Q2\n",
    "    delta = (np.hstack(outputSample) - y_loo)\n",
    "    return 1 - np.mean(delta**2)/np.var(outputSample)"
   ]
  },
  {
   "cell_type": "markdown",
   "metadata": {},
   "source": [
    "As kriging is an interpolating technique, R2 value is 1 so it does not provide good information about the kriging model quality. It is more relevant to compute the Q2 using the leave-one out prediction."
   ]
  },
  {
   "cell_type": "code",
   "execution_count": 88,
   "metadata": {},
   "outputs": [
    {
     "name": "stdout",
     "output_type": "stream",
     "text": [
      "R2 :  1.0\n",
      "Q2 :  0.9999461970146885\n"
     ]
    }
   ],
   "source": [
    "validation = ot.MetaModelValidation(input_sample, output_sample, metamodel)\n",
    "print( 'R2 : ', validation.computePredictivityFactor())\n",
    "print( 'Q2 : ', computeQ2(input_sample, output_sample, kriging_result))"
   ]
  },
  {
   "cell_type": "markdown",
   "metadata": {},
   "source": [
    "### Adequation plot on leave-one out predictions"
   ]
  },
  {
   "cell_type": "code",
   "execution_count": 89,
   "metadata": {},
   "outputs": [
    {
     "name": "stderr",
     "output_type": "stream",
     "text": [
      "/home/blondet/anaconda3/lib/python3.6/site-packages/matplotlib/figure.py:445: UserWarning: Matplotlib is currently using module://ipykernel.pylab.backend_inline, which is a non-GUI backend, so cannot show the figure.\n",
      "  % get_backend())\n"
     ]
    },
    {
     "data": {
      "image/png": "[encoded data removed]",
      "text/plain": [
       "<Figure size 432x288 with 1 Axes>"
      ]
     },
     "metadata": {},
     "output_type": "display_data"
    }
   ],
   "source": [
    "output_LOO = computeLOO(input_sample, output_sample, kriging_result)\n",
    "validation = ot.MetaModelValidation(input_sample, output_LOO, metamodel)\n",
    "View(validation.drawValidation()).show()"
   ]
  },
  {
   "cell_type": "markdown",
   "metadata": {},
   "source": [
    "### Superposition of the model and the metamodel in 1D cuts"
   ]
  },
  {
   "cell_type": "code",
   "execution_count": 90,
   "metadata": {},
   "outputs": [
    {
     "name": "stderr",
     "output_type": "stream",
     "text": [
      "/home/blondet/anaconda3/lib/python3.6/site-packages/matplotlib/figure.py:445: UserWarning: Matplotlib is currently using module://ipykernel.pylab.backend_inline, which is a non-GUI backend, so cannot show the figure.\n",
      "  % get_backend())\n"
     ]
    },
    {
     "data": {
      "image/png": "[encoded data removed]",
      "text/plain": [
       "<Figure size 432x288 with 1 Axes>"
      ]
     },
     "metadata": {},
     "output_type": "display_data"
    }
   ],
   "source": [
    "input_number = 3\n",
    "input_margin = input_distribution.getMarginal(input_number)\n",
    "model_cut = model.draw(input_number,\n",
    "                       0,\n",
    "                       input_distribution.getMean(),\n",
    "                       input_margin.computeQuantile(.025)[0],\n",
    "                       input_margin.computeQuantile(.975)[0],\n",
    "                       100).getDrawable(0)\n",
    "metamodel_cut = metamodel.draw(input_number,\n",
    "                               0,\n",
    "                               input_distribution.getMean(),\n",
    "                               input_margin.computeQuantile(.025)[0],\n",
    "                               input_margin.computeQuantile(.975)[0],\n",
    "                               100).getDrawable(0)\n",
    "\n",
    "graph = ot.Graph()\n",
    "graph.add([model_cut, metamodel_cut])\n",
    "graph.setColors([\"blue\", \"red\"])\n",
    "graph.setLegends([\"Model\", \"Metamodel\"])\n",
    "graph.setXTitle(input_margin.getDescription()[0])\n",
    "graph.setYTitle(model.getOutputDescription()[0])\n",
    "View(graph).show()"
   ]
  },
  {
   "cell_type": "markdown",
   "metadata": {},
   "source": [
    "### Reliability analysis using a (large) Monte Carlo sample of the kriging approximation"
   ]
  },
  {
   "cell_type": "code",
   "execution_count": 92,
   "metadata": {},
   "outputs": [],
   "source": [
    "krigingRandomVector = ot.RandomVector(metamodel, ot.RandomVector(input_distribution))\n",
    "event = ot.Event(krigingRandomVector, ot.Greater(), 30.) \n",
    "event.setName(\"Deviation > %s cm\" % event.getThreshold())"
   ]
  },
  {
   "cell_type": "markdown",
   "metadata": {},
   "source": [
    "### PDF and CDF approximations"
   ]
  },
  {
   "cell_type": "code",
   "execution_count": 93,
   "metadata": {},
   "outputs": [
    {
     "data": {
      "image/png": "[encoded data removed]",
      "text/plain": [
       "<Figure size 864x288 with 2 Axes>"
      ]
     },
     "metadata": {},
     "output_type": "display_data"
    }
   ],
   "source": [
    "sample = krigingRandomVector.getSample(1000)\n",
    "fig = pl.figure(figsize=(12, 4))\n",
    "ax_pdf = fig.add_subplot(1, 2, 1)\n",
    "hist_E = ot.VisualTest_DrawHistogram(sample)\n",
    "hist_E.setColors([\"gray\"])\n",
    "hist_E.setLegends([\"Histogram\"])\n",
    "_ = View(hist_E, figure=fig, axes=[ax_pdf])\n",
    "ax_cdf = fig.add_subplot(1, 2, 2)\n",
    "ecdf_E = ot.VisualTest_DrawEmpiricalCDF(sample, sample.getMin()[0], sample.getMax()[0])\n",
    "ecdf_E.setLegends([\"Empirical CDF\"])\n",
    "_ = View(ecdf_E, figure=fig, axes=[ax_cdf])"
   ]
  },
  {
   "cell_type": "code",
   "execution_count": 94,
   "metadata": {},
   "outputs": [],
   "source": [
    "experiment = ot.MonteCarloExperiment()\n",
    "MCS_algorithm = ot.ProbabilitySimulationAlgorithm(event, experiment)\n",
    "MCS_algorithm.setMaximumOuterSampling(40000) \n",
    "MCS_algorithm.setBlockSize(1) \n",
    "MCS_algorithm.setMaximumCoefficientOfVariation(.1)\n",
    "MCS_algorithm.run()\n",
    "MCS_result = MCS_algorithm.getResult()"
   ]
  },
  {
   "cell_type": "code",
   "execution_count": 95,
   "metadata": {},
   "outputs": [
    {
     "name": "stdout",
     "output_type": "stream",
     "text": [
      "Proability estimate = 7.91e-03\n",
      "Coefficient of variation = 0.10\n",
      "95% Confidence Interval = [6.36e-03, 9.45e-03]\n"
     ]
    }
   ],
   "source": [
    "print( \"Proability estimate = %.2e\" % MCS_result.getProbabilityEstimate() )\n",
    "print( \"Coefficient of variation = %.2f\" % MCS_result.getCoefficientOfVariation())\n",
    "print( \"95%% Confidence Interval = [%.2e, %.2e]\" % (MCS_result.getProbabilityEstimate() - .5 * MCS_result.getConfidenceLength(0.95),\n",
    "                                                    MCS_result.getProbabilityEstimate() + .5 * MCS_result.getConfidenceLength(0.95)))"
   ]
  },
  {
   "cell_type": "code",
   "execution_count": 96,
   "metadata": {},
   "outputs": [
    {
     "data": {
      "image/png": "[encoded data removed]",
      "text/plain": [
       "<Figure size 432x288 with 1 Axes>"
      ]
     },
     "metadata": {},
     "output_type": "display_data"
    }
   ],
   "source": [
    "_ = View(MCS_algorithm.drawProbabilityConvergence(.95))"
   ]
  },
  {
   "cell_type": "code",
   "execution_count": null,
   "metadata": {},
   "outputs": [],
   "source": []
  }
 ],
 "metadata": {
  "css": [
   ""
  ],
  "kernelspec": {
   "display_name": "Python 3",
   "language": "python",
   "name": "python3"
  },
  "language_info": {
   "codemirror_mode": {
    "name": "ipython",
    "version": 3
   },
   "file_extension": ".py",
   "mimetype": "text/x-python",
   "name": "python",
   "nbconvert_exporter": "python",
   "pygments_lexer": "ipython3",
   "version": "3.6.8"
  }
 },
 "nbformat": 4,
 "nbformat_minor": 1
}
