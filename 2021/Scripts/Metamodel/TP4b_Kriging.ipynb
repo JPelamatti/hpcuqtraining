{
 "cells": [
  {
   "cell_type": "code",
   "execution_count": 1,
   "metadata": {},
   "outputs": [],
   "source": [
    "import openturns as ot\n",
    "from openturns.viewer import View\n",
    "import numpy as np\n",
    "from matplotlib import pylab as plt"
   ]
  },
  {
   "cell_type": "markdown",
   "metadata": {},
   "source": [
    "# Step A: define the physical model"
   ]
  },
  {
   "cell_type": "code",
   "execution_count": 2,
   "metadata": {},
   "outputs": [],
   "source": [
    "model = ot.SymbolicFunction([\"F\", \"E\", \"L\", \"I\"], [\"F*L^3/(3*E*I)\"])\n",
    "model = ot.MemoizeFunction(model)\n",
    "model.enableCache()"
   ]
  },
  {
   "cell_type": "markdown",
   "metadata": {},
   "source": [
    "# Step B: specify the input random vector # "
   ]
  },
  {
   "cell_type": "code",
   "execution_count": 3,
   "metadata": {},
   "outputs": [],
   "source": [
    "sample_E = ot.Sample.ImportFromCSVFile(\"sample_E.csv\")\n",
    "kernel_smoothing = ot.KernelSmoothing(ot.Normal())\n",
    "bandwidth = kernel_smoothing.computeSilvermanBandwidth(sample_E)\n",
    "E = kernel_smoothing.build(sample_E, bandwidth)\n",
    "E.setDescription([\"Young modulus\"])"
   ]
  },
  {
   "cell_type": "code",
   "execution_count": 4,
   "metadata": {},
   "outputs": [],
   "source": [
    "F = ot.LogNormal()\n",
    "F.setParameter(ot.LogNormalMuSigma()([30000, 9000, 15000]))\n",
    "F.setDescription([\"Load\"])"
   ]
  },
  {
   "cell_type": "code",
   "execution_count": 5,
   "metadata": {},
   "outputs": [],
   "source": [
    "L = ot.Uniform(250, 260)\n",
    "L.setDescription([\"Length\"])"
   ]
  },
  {
   "cell_type": "code",
   "execution_count": 6,
   "metadata": {},
   "outputs": [],
   "source": [
    "I = ot.Beta(2.5, 4, 310, 450)\n",
    "I.setDescription([\"Inertia\"])"
   ]
  },
  {
   "cell_type": "code",
   "execution_count": 7,
   "metadata": {},
   "outputs": [],
   "source": [
    "marginal_distributions = [F, E, L, I]"
   ]
  },
  {
   "cell_type": "code",
   "execution_count": 8,
   "metadata": {},
   "outputs": [],
   "source": [
    "SR_cor = ot.CorrelationMatrix(len(marginal_distributions))\n",
    "SR_cor[2, 3] = -0.2\n",
    "copula = ot.NormalCopula(ot.NormalCopula.GetCorrelationFromSpearmanCorrelation(SR_cor))"
   ]
  },
  {
   "cell_type": "code",
   "execution_count": 9,
   "metadata": {},
   "outputs": [],
   "source": [
    "input_distribution = ot.ComposedDistribution(marginal_distributions, copula)\n",
    "dimension = input_distribution.getDimension()"
   ]
  },
  {
   "cell_type": "code",
   "execution_count": 10,
   "metadata": {},
   "outputs": [],
   "source": [
    "input_random_vector = ot.RandomVector(input_distribution)"
   ]
  },
  {
   "cell_type": "markdown",
   "metadata": {},
   "source": [
    "# Step C: uncertainty propagation\n",
    "\n",
    "A kriging metamodel is used.\n",
    "\n",
    "## Specification of the basis\n",
    "\n",
    "We can use existing basis factory : ConstantBasisFactory, LinearBasisFactory, QuadraticBasisFactory, or create our own basis using a collection of NumericalMathFunction and transform it into a basis."
   ]
  },
  {
   "cell_type": "code",
   "execution_count": 11,
   "metadata": {},
   "outputs": [
    {
     "name": "stdout",
     "output_type": "stream",
     "text": [
      "Basis( [class=LinearEvaluation name=Unnamed center=[0,0,0,0] constant=[1] linear=[[ 0 ]\n",
      " [ 0 ]\n",
      " [ 0 ]\n",
      " [ 0 ]]] )\n"
     ]
    }
   ],
   "source": [
    "basis = ot.ConstantBasisFactory(dimension).build()\n",
    "print(basis)"
   ]
  },
  {
   "cell_type": "markdown",
   "metadata": {},
   "source": [
    "## Choice of the Design of Experiment\n",
    "\n",
    "We can choose a Monte Carlo DOE or a more space filling DOE."
   ]
  },
  {
   "cell_type": "code",
   "execution_count": 12,
   "metadata": {},
   "outputs": [],
   "source": [
    "design_of_experiments = ot.MonteCarloExperiment(input_distribution, 100)\n",
    "input_sample = design_of_experiments.generate()\n",
    "output_sample = model(input_sample)"
   ]
  },
  {
   "cell_type": "code",
   "execution_count": 13,
   "metadata": {},
   "outputs": [],
   "source": [
    "# normalization if needed: linear transformation\n",
    "mean = input_sample.computeMean()\n",
    "stddev = input_sample.computeStandardDeviationPerComponent()\n",
    "linear = ot.SquareMatrix(dimension)\n",
    "\n",
    "for j in range(dimension):\n",
    "    linear[j, j] = 1.0 / stddev[j] if abs(stddev[j]) > 1e-12 else 1.0\n",
    "zero = [0.0] * dimension\n",
    "\n",
    "transformation = ot.LinearFunction(mean, zero, linear)\n",
    "\n",
    "normalized_inputSample = transformation(input_sample)"
   ]
  },
  {
   "cell_type": "markdown",
   "metadata": {},
   "source": [
    "## Specification of the covariance model\n",
    "\n",
    "The covariance model can be a model of dimension corresponding of the input dimension. Or it can be a product covariance model where each input has its own covariance mode of dimension 1. If the output dimension is greater than 1, the user can provide a tensorized covariance model."
   ]
  },
  {
   "cell_type": "code",
   "execution_count": 14,
   "metadata": {},
   "outputs": [],
   "source": [
    "# we create a product covariance model where each input has its own covariance model\n",
    "covColl = ot.CovarianceModelCollection(dimension)\n",
    "for i in range(dimension):\n",
    "    covColl[i] = ot.SquaredExponential([1])\n",
    "covarianceModel = ot.ProductCovarianceModel(covColl)"
   ]
  },
  {
   "cell_type": "code",
   "execution_count": 15,
   "metadata": {},
   "outputs": [
    {
     "data": {
      "text/html": [
       "<p>[83949.1,4.52164e+07,259.83,433.689]</p>"
      ],
      "text/plain": [
       "class=Point name=Unnamed dimension=4 values=[83949.1,4.52164e+07,259.83,433.689]"
      ]
     },
     "execution_count": 15,
     "metadata": {},
     "output_type": "execute_result"
    }
   ],
   "source": [
    "covarianceModel.setScale(input_sample.getMax())  # Trick A\n",
    "covarianceModel.getScale()"
   ]
  },
  {
   "cell_type": "markdown",
   "metadata": {},
   "source": [
    "## Running the kriging algorithm"
   ]
  },
  {
   "cell_type": "code",
   "execution_count": 16,
   "metadata": {},
   "outputs": [],
   "source": [
    "kriging_algorithm = ot.KrigingAlgorithm(\n",
    "    input_sample, output_sample, covarianceModel, basis\n",
    ")\n",
    "# set the global optimization algorithm to improve the optimization result\n",
    "kriging_algorithm.setOptimizationAlgorithm(ot.NLopt(\"GN_DIRECT\"))\n",
    "# kriging_algorithm.setOptimizeParameters(False)\n",
    "scaleOptimizationBounds = ot.Interval(input_sample.getMin(), input_sample.getMax())\n",
    "kriging_algorithm.setOptimizationBounds(scaleOptimizationBounds)  # Trick B\n",
    "# run\n",
    "kriging_algorithm.run()"
   ]
  },
  {
   "cell_type": "code",
   "execution_count": 17,
   "metadata": {},
   "outputs": [
    {
     "name": "stdout",
     "output_type": "stream",
     "text": [
      "Covariance model parameters : [83544.3,3.22669e+07,250.236,413.599]\n",
      "Covariance model amplitude : [88.9545]\n"
     ]
    }
   ],
   "source": [
    "kriging_result = kriging_algorithm.getResult()\n",
    "metamodel = kriging_result.getMetaModel()\n",
    "covarianceModel = kriging_result.getCovarianceModel()\n",
    "print(\n",
    "    \"Covariance model parameters : {}\".format(\n",
    "        kriging_result.getCovarianceModel().getScale()\n",
    "    )\n",
    ")\n",
    "print(\n",
    "    \"Covariance model amplitude : {}\".format(\n",
    "        kriging_result.getCovarianceModel().getAmplitude()\n",
    "    )\n",
    ")"
   ]
  },
  {
   "cell_type": "markdown",
   "metadata": {},
   "source": [
    "## Assess the metamodel goodness-of-fit"
   ]
  },
  {
   "cell_type": "code",
   "execution_count": 18,
   "metadata": {},
   "outputs": [],
   "source": [
    "def computeLOO(inputSample, outputSample, krigingResult):\n",
    "    \"\"\"\n",
    "    Compute the Leave One out prediction analytically (from Dubrule 1983 paper).\n",
    "    \"\"\"\n",
    "    inputSample = np.array(inputSample)\n",
    "    outputSample = np.array(outputSample)\n",
    "\n",
    "    # get covariance model\n",
    "    cov = krigingResult.getCovarianceModel()\n",
    "    # get coefficient and compute trend\n",
    "    basis = krigingResult.getBasisCollection()[0]\n",
    "    F1 = krigingResult.getTrendCoefficients()[0]\n",
    "    size = inputSample.shape[0]\n",
    "    p = F1.getDimension()\n",
    "    F = np.ones((size, p))\n",
    "    for i in range(p):\n",
    "        F[:, i] = np.hstack(basis.build(i)(normalized_inputSample))\n",
    "    # Calcul de y_loo\n",
    "    K = np.array(cov.discretize(normalized_inputSample))\n",
    "    Z = np.zeros((p, p))\n",
    "    S = np.vstack([np.hstack([K, F]), np.hstack([F.T, Z])])\n",
    "    S_inv = np.linalg.inv(S)\n",
    "    B = S_inv[:size:, :size:]\n",
    "    B_but_its_diag = B * (np.ones(B.shape) - np.eye(size))\n",
    "    B_diag = np.atleast_2d(np.diag(B)).T\n",
    "    y_loo = (-np.dot(B_but_its_diag / B_diag, outputSample)).ravel()\n",
    "    return ot.Sample(np.vstack(y_loo))"
   ]
  },
  {
   "cell_type": "code",
   "execution_count": 19,
   "metadata": {},
   "outputs": [],
   "source": [
    "def computeQ2(inputSample, outputSample, krigingResult):\n",
    "    \"\"\"\n",
    "    Compute the Q2 using the analytical loo prediction.\n",
    "    \"\"\"\n",
    "    y_loo = np.hstack(computeLOO(inputSample, outputSample, krigingResult))\n",
    "    # Calcul du Q2\n",
    "    delta = np.hstack(outputSample) - y_loo\n",
    "    Q2 = 1 - np.mean(delta ** 2) / np.var(outputSample)\n",
    "    return Q2"
   ]
  },
  {
   "cell_type": "markdown",
   "metadata": {},
   "source": [
    "As kriging is an interpolating technique, R2 value is 1 so it does not provide good information about the kriging model quality. It is more relevant to compute the Q2 using the leave-one out prediction."
   ]
  },
  {
   "cell_type": "code",
   "execution_count": 20,
   "metadata": {},
   "outputs": [
    {
     "name": "stdout",
     "output_type": "stream",
     "text": [
      "R2 :  [1]\n",
      "Q2 :  0.9478282544265058\n"
     ]
    }
   ],
   "source": [
    "validation = ot.MetaModelValidation(input_sample, output_sample, metamodel)\n",
    "print(\"R2 : \", validation.computePredictivityFactor())\n",
    "print(\"Q2 : \", computeQ2(input_sample, output_sample, kriging_result))"
   ]
  },
  {
   "cell_type": "markdown",
   "metadata": {},
   "source": [
    "### Adequation plot on leave-one out predictions"
   ]
  },
  {
   "cell_type": "code",
   "execution_count": 21,
   "metadata": {},
   "outputs": [
    {
     "data": {
      "image/png": "[encoded data removed]",
      "text/plain": [
       "class=GridLayout name=Unnamed nbRows=1 nbColumns=1 graphCollection=[class=Graph name=Unnamed implementation=class=GraphImplementation name=Unnamed title= xTitle=model 0 yTitle=metamodel axes=ON grid=ON legendposition= legendFontSize=1 drawables=[class=Drawable name=Unnamed implementation=class=Curve name=Unnamed derived from class=DrawableImplementation name=Unnamed legend= data=class=Sample name=Unnamed implementation=class=SampleImplementation name=Unnamed size=2 dimension=2 data=[[7.19073,7.19073],[35.0279,35.0279]] color=red fillStyle=solid lineStyle=solid pointStyle=none lineWidth=1,class=Drawable name=Unnamed implementation=class=Cloud name=Unnamed derived from class=DrawableImplementation name=Unnamed legend= data=class=Sample name=Unnamed implementation=class=SampleImplementation name=Unnamed size=100 dimension=2 data=[[15.0551,15.8778],[7.19073,7.27044],[13.7599,13.5508],[9.36431,9.44386],[16.2307,16.4657],[13.13,13.1203],[13.0908,13.461],[13.4284,14.1783],[8.48995,8.52838],[16.1808,16.1661],[15.59,15.8596],[9.14082,8.6145],[12.5625,12.5458],[15.9041,16.1509],[23.3592,26.3985],[22.1858,22.4291],[14.572,13.619],[14.9591,14.6643],[20.2,20.0223],[24.0737,24.6549],[11.1079,10.5189],[11.74,11.1739],[10.0594,9.23938],[13.31,13.5566],[10.7789,11.233],[13.1767,12.9874],[15.5159,16.7863],[12.7802,12.0659],[8.28339,9.05713],[16.7112,17.4768],[7.78216,7.72817],[16.2633,16.5485],[21.7527,23.9963],[11.3564,10.2609],[12.0041,12.5257],[10.8489,10.5346],[9.91623,9.70387],[11.7232,11.2182],[14.9745,13.7807],[11.6467,11.1429],[12.4853,13.2469],[16.2834,17.74],[15.7833,14.6832],[14.5897,14.2411],[14.02,13.5398],[12.8682,12.4635],[12.7577,13.0107],[18.5104,19.1888],[11.5757,10.0541],[12.729,12.0693],[15.7768,16.1837],[14.2547,14.0163],[11.167,11.578],[18.6835,18.8609],[35.0279,29.3186],[17.2521,17.7743],[11.831,12.3039],[12.498,12.3423],[11.3171,11.4024],[10.469,10.0062],[12.4228,12.6871],[11.6991,11.2568],[14.5433,14.1305],[18.3103,18.5045],[10.1332,9.90786],[8.42823,8.22649],[10.4624,11.1712],[14.9425,15.45],[10.4678,9.6406],[10.9914,10.5475],[14.6751,14.2769],[13.7983,13.6312],[8.65488,8.57567],[18.1986,17.9927],[12.7039,12.3616],[21.3848,21.393],[11.2496,10.6456],[11.4218,10.7024],[15.0016,15.2209],[9.44085,10.2139],[15.3036,19.4112],[11.9773,11.3987],[9.36906,9.11194],[16.6277,17.6094],[11.6552,11.6101],[22.1742,22.3611],[17.707,18.6506],[12.1565,12.6205],[8.67946,9.28537],[15.8885,15.7815],[8.88925,8.24123],[14.1218,13.8672],[20.4659,19.7885],[14.9983,15.2866],[11.1996,11.0946],[16.6734,17.3346],[8.69099,8.27053],[12.2453,11.4715],[11.066,10.6552],[14.137,13.6398]] color=blue fillStyle=solid lineStyle=solid pointStyle=plus lineWidth=1]]"
      ]
     },
     "execution_count": 21,
     "metadata": {},
     "output_type": "execute_result"
    }
   ],
   "source": [
    "output_LOO = computeLOO(input_sample, output_sample, kriging_result)\n",
    "validation = ot.MetaModelValidation(input_sample, output_LOO, metamodel)\n",
    "validation.drawValidation()"
   ]
  },
  {
   "cell_type": "markdown",
   "metadata": {},
   "source": [
    "### Superposition of the model and the metamodel in 1D cuts"
   ]
  },
  {
   "cell_type": "code",
   "execution_count": 22,
   "metadata": {},
   "outputs": [
    {
     "data": {
      "image/png": "[encoded data removed]",
      "text/plain": [
       "<Figure size 432x288 with 1 Axes>"
      ]
     },
     "metadata": {
      "needs_background": "light"
     },
     "output_type": "display_data"
    }
   ],
   "source": [
    "input_number = 3\n",
    "input_margin = input_distribution.getMarginal(input_number)\n",
    "model_cut = model.draw(\n",
    "    input_number,\n",
    "    0,\n",
    "    input_distribution.getMean(),\n",
    "    input_margin.computeQuantile(0.025)[0],\n",
    "    input_margin.computeQuantile(0.975)[0],\n",
    "    100,\n",
    ").getDrawable(0)\n",
    "metamodel_cut = metamodel.draw(\n",
    "    input_number,\n",
    "    0,\n",
    "    input_distribution.getMean(),\n",
    "    input_margin.computeQuantile(0.025)[0],\n",
    "    input_margin.computeQuantile(0.975)[0],\n",
    "    100,\n",
    ").getDrawable(0)\n",
    "\n",
    "graph = ot.Graph(\"Model and metamodel\", \"\", \"\", True)\n",
    "graph.add([model_cut, metamodel_cut])\n",
    "graph.setColors([\"blue\", \"red\"])\n",
    "graph.setLegends([\"Model\", \"Metamodel\"])\n",
    "graph.setXTitle(input_margin.getDescription()[0])\n",
    "graph.setYTitle(model.getOutputDescription()[0])\n",
    "graph.setLegendPosition(\"topright\")\n",
    "view = View(graph)"
   ]
  },
  {
   "cell_type": "markdown",
   "metadata": {},
   "source": [
    "### Reliability analysis using a (large) Monte Carlo sample of the kriging approximation"
   ]
  },
  {
   "cell_type": "code",
   "execution_count": 23,
   "metadata": {},
   "outputs": [],
   "source": [
    "krigingRandomVector = ot.CompositeRandomVector(\n",
    "    metamodel, ot.RandomVector(input_distribution)\n",
    ")\n",
    "event = ot.ThresholdEvent(krigingRandomVector, ot.Greater(), 30.0)\n",
    "event.setName(\"Deviation > %s cm\" % event.getThreshold())"
   ]
  },
  {
   "cell_type": "markdown",
   "metadata": {},
   "source": [
    "### PDF and CDF approximations"
   ]
  },
  {
   "cell_type": "code",
   "execution_count": 24,
   "metadata": {},
   "outputs": [
    {
     "data": {
      "image/png": "[encoded data removed]",
      "text/plain": [
       "<Figure size 864x288 with 2 Axes>"
      ]
     },
     "metadata": {
      "needs_background": "light"
     },
     "output_type": "display_data"
    }
   ],
   "source": [
    "sample = krigingRandomVector.getSample(1000)\n",
    "fig = plt.figure(figsize=(12, 4))\n",
    "ax_pdf = fig.add_subplot(1, 2, 1)\n",
    "hist_E = ot.HistogramFactory().build(sample).drawPDF()\n",
    "hist_E.setColors([\"gray\"])\n",
    "hist_E.setLegends([\"Histogram\"])\n",
    "_ = View(hist_E, figure=fig, axes=[ax_pdf])\n",
    "ax_cdf = fig.add_subplot(1, 2, 2)\n",
    "ecdf_E = ot.UserDefined(sample).drawCDF()\n",
    "ecdf_E.setLegends([\"Empirical CDF\"])\n",
    "_ = View(ecdf_E, figure=fig, axes=[ax_cdf])"
   ]
  },
  {
   "cell_type": "code",
   "execution_count": 25,
   "metadata": {},
   "outputs": [],
   "source": [
    "experiment = ot.MonteCarloExperiment()\n",
    "MCS_algorithm = ot.ProbabilitySimulationAlgorithm(event, experiment)\n",
    "MCS_algorithm.setMaximumOuterSampling(1000)  # Increase to 10000 to get accurate results\n",
    "MCS_algorithm.setBlockSize(1)\n",
    "MCS_algorithm.setMaximumCoefficientOfVariation(0.1)\n",
    "MCS_algorithm.run()\n",
    "MCS_result = MCS_algorithm.getResult()"
   ]
  },
  {
   "cell_type": "code",
   "execution_count": 26,
   "metadata": {},
   "outputs": [
    {
     "name": "stdout",
     "output_type": "stream",
     "text": [
      "Proability estimate = 8.00e-03\n",
      "Coefficient of variation = 0.35\n",
      "95% Confidence Interval = [2.48e-03, 1.35e-02]\n"
     ]
    }
   ],
   "source": [
    "print(\"Proability estimate = %.2e\" % MCS_result.getProbabilityEstimate())\n",
    "print(\"Coefficient of variation = %.2f\" % MCS_result.getCoefficientOfVariation())\n",
    "print(\n",
    "    \"95%% Confidence Interval = [%.2e, %.2e]\"\n",
    "    % (\n",
    "        MCS_result.getProbabilityEstimate()\n",
    "        - 0.5 * MCS_result.getConfidenceLength(0.95),\n",
    "        MCS_result.getProbabilityEstimate()\n",
    "        + 0.5 * MCS_result.getConfidenceLength(0.95),\n",
    "    )\n",
    ")"
   ]
  },
  {
   "cell_type": "code",
   "execution_count": 27,
   "metadata": {},
   "outputs": [
    {
     "data": {
      "image/png": "[encoded data removed]",
      "text/plain": [
       "<Figure size 432x288 with 1 Axes>"
      ]
     },
     "metadata": {
      "needs_background": "light"
     },
     "output_type": "display_data"
    }
   ],
   "source": [
    "_ = View(MCS_algorithm.drawProbabilityConvergence(0.95))"
   ]
  },
  {
   "cell_type": "code",
   "execution_count": null,
   "metadata": {},
   "outputs": [],
   "source": []
  }
 ],
 "metadata": {
  "css": [
   ""
  ],
  "kernelspec": {
   "display_name": "Python 3",
   "language": "python",
   "name": "python3"
  },
  "language_info": {
   "codemirror_mode": {
    "name": "ipython",
    "version": 3
   },
   "file_extension": ".py",
   "mimetype": "text/x-python",
   "name": "python",
   "nbconvert_exporter": "python",
   "pygments_lexer": "ipython3",
   "version": "3.8.8"
  }
 },
 "nbformat": 4,
 "nbformat_minor": 1
}
