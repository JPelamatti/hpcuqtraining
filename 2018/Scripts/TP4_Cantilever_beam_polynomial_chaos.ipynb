{
 "cells": [
  {
   "cell_type": "code",
   "execution_count": 1,
   "metadata": {},
   "outputs": [
    {
     "name": "stdout",
     "output_type": "stream",
     "text": [
      "Populating the interactive namespace from numpy and matplotlib\n"
     ]
    }
   ],
   "source": [
    "%pylab inline"
   ]
  },
  {
   "cell_type": "code",
   "execution_count": 2,
   "metadata": {
    "collapsed": true
   },
   "outputs": [],
   "source": [
    "from numpy import array\n",
    "from openturns import *\n",
    "from openturns.viewer import View\n",
    "import pandas as pd\n",
    "# set seed for random number generator to assure the reproducibility of the analysis\n",
    "RandomGenerator.SetSeed(1)\n",
    "# set command to call R from within the python script\n",
    "ResourceMap.Set('R-executable-command', 'R')"
   ]
  },
  {
   "cell_type": "markdown",
   "metadata": {},
   "source": [
    "# Step A - Model definition"
   ]
  },
  {
   "cell_type": "code",
   "execution_count": 3,
   "metadata": {
    "collapsed": true
   },
   "outputs": [],
   "source": [
    "dim = 4\n",
    "model = NumericalMathFunction([\"E\", \"F\", \"L\", \"I\"], [\"F*L^3/(3*E*I)\"])"
   ]
  },
  {
   "cell_type": "markdown",
   "metadata": {},
   "source": [
    "# Step B - Modelling of the input uncertainty"
   ]
  },
  {
   "cell_type": "markdown",
   "metadata": {},
   "source": [
    "We first define the marginal distributions"
   ]
  },
  {
   "cell_type": "code",
   "execution_count": 4,
   "metadata": {
    "collapsed": true
   },
   "outputs": [],
   "source": [
    "# Young's modulus E: data-based kernel distribution\n",
    "kernel = KernelSmoothing()\n",
    "sample = NumericalSample.ImportFromCSVFile(\"sample_E.csv\")  # in Pa\n",
    "dist_E = kernel.build(sample)\n",
    "\n",
    "# Load F: lognormal\n",
    "F_para = LogNormalMuSigma(3e4, 9e3, 15e3) # in N\n",
    "dist_F = ParametrizedDistribution(F_para)\n",
    "\n",
    "# Length L: uniform\n",
    "dist_L = Uniform(250, 260) # in cm\n",
    "\n",
    "# Moment of inertia I: beta\n",
    "dist_I = Beta(2.5, 4, 310., 450.) # in cm^4\n",
    "#dist_E.computeQuantile(0.5)"
   ]
  },
  {
   "cell_type": "markdown",
   "metadata": {},
   "source": [
    "Draw the CDF of the parameters, e.g. the Young's modulus E"
   ]
  },
  {
   "cell_type": "code",
   "execution_count": 5,
   "metadata": {},
   "outputs": [
    {
     "name": "stderr",
     "output_type": "stream",
     "text": [
      "/gpfslocal/pub/python/anaconda/Anaconda2-4.3.1/lib/python2.7/site-packages/matplotlib/figure.py:402: UserWarning: matplotlib is currently using a non-GUI backend, so cannot show the figure\n",
      "  \"matplotlib is currently using a non-GUI backend, \"\n"
     ]
    },
    {
     "data": {
      "image/png": "[encoded data removed]",
      "text/plain": [
       "<matplotlib.figure.Figure at 0x7fe5984de990>"
      ]
     },
     "metadata": {},
     "output_type": "display_data"
    }
   ],
   "source": [
    "graph = dist_E.drawCDF()\n",
    "graph.setLegends(['E'])\n",
    "graph.setTitle('')\n",
    "graph.setXTitle('E')\n",
    "View(graph).show()"
   ]
  },
  {
   "cell_type": "code",
   "execution_count": 6,
   "metadata": {},
   "outputs": [
    {
     "data": {
      "image/png": "[encoded data removed]",
      "text/plain": [
       "<matplotlib.figure.Figure at 0x7fe595a8b410>"
      ]
     },
     "metadata": {},
     "output_type": "display_data"
    }
   ],
   "source": [
    "graph = dist_F.drawCDF()\n",
    "graph.setLegends(['F'])\n",
    "graph.setTitle('')\n",
    "graph.setXTitle('F')\n",
    "View(graph).show()"
   ]
  },
  {
   "cell_type": "markdown",
   "metadata": {},
   "source": [
    "Then we specify the copula: a Gaussian copula is assumed"
   ]
  },
  {
   "cell_type": "code",
   "execution_count": 7,
   "metadata": {
    "collapsed": true
   },
   "outputs": [],
   "source": [
    "R = CorrelationMatrix(dim)\n",
    "R[2,3] = -.2 # specify the correlation between variables IFF necessary, otherwise the standard correlation matrix is a unit matrix\n",
    "myCopula = NormalCopula(NormalCopula.GetCorrelationFromSpearmanCorrelation(R)) # be sure to introduce the Pearson correlation matrix"
   ]
  },
  {
   "cell_type": "markdown",
   "metadata": {},
   "source": [
    "Lastly we gather the marginals and the copula to create the joint distribution of the inputs"
   ]
  },
  {
   "cell_type": "code",
   "execution_count": 8,
   "metadata": {
    "collapsed": true
   },
   "outputs": [],
   "source": [
    "myDistribution = ComposedDistribution([dist_E, dist_F, dist_L, dist_I], myCopula)\n",
    "# generate a set of values of the random parameters\n",
    "X = myDistribution.getSample(10)"
   ]
  },
  {
   "cell_type": "markdown",
   "metadata": {},
   "source": [
    "# Step C - Uncertainty propagation based on polynomial chaos"
   ]
  },
  {
   "cell_type": "markdown",
   "metadata": {},
   "source": [
    "## Construct the polynomial chaos approximation"
   ]
  },
  {
   "cell_type": "markdown",
   "metadata": {},
   "source": [
    "The types of 1D polynomial families are defined"
   ]
  },
  {
   "cell_type": "code",
   "execution_count": 9,
   "metadata": {
    "collapsed": true
   },
   "outputs": [],
   "source": [
    "polyColl = PolynomialFamilyCollection(dim)\n",
    "polyColl[0] = StandardDistributionPolynomialFactory(dist_E)\n",
    "polyColl[1] = LaguerreFactory() # beware of ad-hoc polynomials with the lognormal distribution\n",
    "polyColl[2] = StandardDistributionPolynomialFactory(dist_L)\n",
    "polyColl[3] = StandardDistributionPolynomialFactory(dist_I)"
   ]
  },
  {
   "cell_type": "markdown",
   "metadata": {},
   "source": [
    "Define the strategy for enumerating the elements of the multivariate tensorized basis"
   ]
  },
  {
   "cell_type": "code",
   "execution_count": 10,
   "metadata": {
    "collapsed": true
   },
   "outputs": [],
   "source": [
    "enumerateFunction = EnumerateFunction(dim)"
   ]
  },
  {
   "cell_type": "markdown",
   "metadata": {},
   "source": [
    "Determine the number of elements to be retained in the chaos series"
   ]
  },
  {
   "cell_type": "code",
   "execution_count": 11,
   "metadata": {
    "collapsed": true
   },
   "outputs": [],
   "source": [
    "p = 7 # total degree, integer\n",
    "P = enumerateFunction.getStrataCumulatedCardinal(p) # number of chaos terms"
   ]
  },
  {
   "cell_type": "markdown",
   "metadata": {},
   "source": [
    "Define the multivariate basis"
   ]
  },
  {
   "cell_type": "code",
   "execution_count": 12,
   "metadata": {
    "collapsed": true
   },
   "outputs": [],
   "source": [
    "multivariateBasis = OrthogonalProductPolynomialFactory(polyColl, enumerateFunction)"
   ]
  },
  {
   "cell_type": "markdown",
   "metadata": {},
   "source": [
    "Specify the strategy for computing the chaos coefficients: sparse least squares (based on Least Angle Regression)"
   ]
  },
  {
   "cell_type": "code",
   "execution_count": 13,
   "metadata": {
    "collapsed": true
   },
   "outputs": [],
   "source": [
    "basisSequenceFactory = LAR()\n",
    "fittingAlgorithm = CorrectedLeaveOneOut()\n",
    "approximationAlgorithm = LeastSquaresMetaModelSelectionFactory(basisSequenceFactory, fittingAlgorithm)\n",
    "N = 500 # size of the experimental design\n",
    "evalStrategy = LeastSquaresStrategy(MonteCarloExperiment(N), approximationAlgorithm) # Monte Carlo design\n",
    "truncatureBasisStrategy = FixedStrategy(multivariateBasis, P)"
   ]
  },
  {
   "cell_type": "markdown",
   "metadata": {},
   "source": [
    "Construct the chaos metamodel"
   ]
  },
  {
   "cell_type": "code",
   "execution_count": 14,
   "metadata": {
    "collapsed": true
   },
   "outputs": [],
   "source": [
    "polynomialChaosAlgorithm = FunctionalChaosAlgorithm(model, myDistribution, truncatureBasisStrategy, evalStrategy)\n",
    "polynomialChaosAlgorithm.run()"
   ]
  },
  {
   "cell_type": "markdown",
   "metadata": {},
   "source": [
    "Get the result"
   ]
  },
  {
   "cell_type": "code",
   "execution_count": 15,
   "metadata": {
    "collapsed": true
   },
   "outputs": [],
   "source": [
    "result = polynomialChaosAlgorithm.getResult()\n",
    "metamodel = result.getMetaModel()\n",
    "chaosRV = FunctionalChaosRandomVector(result)"
   ]
  },
  {
   "cell_type": "markdown",
   "metadata": {},
   "source": [
    "## Validate the metamodel"
   ]
  },
  {
   "cell_type": "markdown",
   "metadata": {},
   "source": [
    "Generate a validation sample (different from the training sample)"
   ]
  },
  {
   "cell_type": "code",
   "execution_count": 16,
   "metadata": {
    "collapsed": true
   },
   "outputs": [],
   "source": [
    "n_valid = 1000\n",
    "inputSample = myDistribution.getSample(n_valid)\n",
    "outputSample = model(inputSample)"
   ]
  },
  {
   "cell_type": "markdown",
   "metadata": {},
   "source": [
    "Get the corresponding chaos-based predictions"
   ]
  },
  {
   "cell_type": "code",
   "execution_count": 17,
   "metadata": {
    "collapsed": true
   },
   "outputs": [],
   "source": [
    "outputChaosSample = metamodel(inputSample)"
   ]
  },
  {
   "cell_type": "markdown",
   "metadata": {},
   "source": [
    "Compute the relative mean-square accuracy (so-called Q2 coefficient)"
   ]
  },
  {
   "cell_type": "code",
   "execution_count": 18,
   "metadata": {},
   "outputs": [
    {
     "name": "stdout",
     "output_type": "stream",
     "text": [
      "Q2 coefficient (relative accuracy): 0.9940\n"
     ]
    }
   ],
   "source": [
    "residuals = outputSample - outputChaosSample\n",
    "Q2 = 1. - residuals.computeVariance()[0] / outputSample.computeVariance()[0]\n",
    "print(\"Q2 coefficient (relative accuracy): %.4f\" % Q2)"
   ]
  },
  {
   "cell_type": "markdown",
   "metadata": {},
   "source": [
    "Plot the actual vs the predicted outputs"
   ]
  },
  {
   "cell_type": "code",
   "execution_count": 19,
   "metadata": {},
   "outputs": [
    {
     "data": {
      "image/png": "[encoded data removed]",
      "text/plain": [
       "<matplotlib.figure.Figure at 0x7fe595b183d0>"
      ]
     },
     "metadata": {},
     "output_type": "display_data"
    }
   ],
   "source": [
    "val = MetaModelValidation(inputSample, outputSample, metamodel)\n",
    "graph = val.drawValidation()\n",
    "View(graph).show()"
   ]
  },
  {
   "cell_type": "markdown",
   "metadata": {},
   "source": [
    "## Post-processing of the chaos expansion"
   ]
  },
  {
   "cell_type": "markdown",
   "metadata": {},
   "source": [
    "### Computation of the output mean and standard deviation from the chaos coefficients"
   ]
  },
  {
   "cell_type": "code",
   "execution_count": 20,
   "metadata": {},
   "outputs": [
    {
     "name": "stdout",
     "output_type": "stream",
     "text": [
      "Mean: 12.599835\n",
      "Standard deviation: 4.225456\n"
     ]
    }
   ],
   "source": [
    "print(\"Mean: %f\" % chaosRV.getMean()[0])\n",
    "print(\"Standard deviation: %f\" % sqrt(chaosRV.getCovariance()[0,0]))"
   ]
  },
  {
   "cell_type": "markdown",
   "metadata": {},
   "source": [
    "Draw the empirical PDF of the response obtained with Kernel density estimation technique"
   ]
  },
  {
   "cell_type": "code",
   "execution_count": 21,
   "metadata": {},
   "outputs": [
    {
     "data": {
      "image/png": "[encoded data removed]",
      "text/plain": [
       "<matplotlib.figure.Figure at 0x7fe59318c350>"
      ]
     },
     "metadata": {},
     "output_type": "display_data"
    }
   ],
   "source": [
    "inputBigSample = myDistribution.getSample(10000)\n",
    "outputBigsample = metamodel(inputBigSample)\n",
    "kernel2 = KernelSmoothing()\n",
    "fittedDist = kernel2.build(outputBigsample)\n",
    "graph = fittedDist.drawPDF()\n",
    "View(graph).show()"
   ]
  },
  {
   "cell_type": "markdown",
   "metadata": {},
   "source": [
    "### Computation of Sobol' sensitivity indices"
   ]
  },
  {
   "cell_type": "code",
   "execution_count": 22,
   "metadata": {},
   "outputs": [
    {
     "name": "stdout",
     "output_type": "stream",
     "text": [
      "Sobol' sensitivity index to E:    0.146777\n",
      "Sobol' sensitivity index to F:    0.758177\n",
      "Sobol' sensitivity index to L:    0.022748\n",
      "Sobol' sensitivity index to I:    0.051536\n",
      "Total Sobol' sensitivity index to E:    0.161687\n",
      "Total Sobol' sensitivity index to F:    0.777249\n",
      "Total Sobol' sensitivity index to L:    0.025286\n",
      "Total Sobol' sensitivity index to I:    0.056561\n"
     ]
    }
   ],
   "source": [
    "# Main-effects\n",
    "for i, Xi in enumerate([\"E\", \"F\", \"L\", \"I\"]):\n",
    "    sobolIndex = chaosRV.getSobolIndex(i)\n",
    "    print(\"Sobol' sensitivity index to \"+Xi+\":    %f\" %sobolIndex)\n",
    "\n",
    "# Total indices\n",
    "for i, Xi in enumerate([\"E\", \"F\", \"L\", \"I\"]):\n",
    "    sobolTotalIndex = chaosRV.getSobolTotalIndex(i)\n",
    "    print(\"Total Sobol' sensitivity index to \"+Xi+\":    %f\" %sobolTotalIndex)"
   ]
  },
  {
   "cell_type": "code",
   "execution_count": 23,
   "metadata": {
    "scrolled": true
   },
   "outputs": [
    {
     "data": {
      "text/plain": [
       "0.013633018736974102"
      ]
     },
     "execution_count": 23,
     "metadata": {},
     "output_type": "execute_result"
    }
   ],
   "source": [
    "# interaction effects between first and second variables\n",
    "chaosRV.getSobolTotalIndex([0,1])"
   ]
  },
  {
   "cell_type": "markdown",
   "metadata": {},
   "source": [
    "### Reliability analysis using polynomial chaos and MCS"
   ]
  },
  {
   "cell_type": "code",
   "execution_count": 24,
   "metadata": {
    "collapsed": true
   },
   "outputs": [],
   "source": [
    "# Reliability analysis using a (large) Monte Carlo sample of the chaos approximation\n",
    "#\n",
    "threshold = 30\n",
    "myEvent = Event(chaosRV, ComparisonOperator(Greater()), threshold)\n",
    "myEvent.setName(\"Deviation > 30 cm\")\n",
    "#\n",
    "maximumOuterSampling = 40000\n",
    "blockSize = 100\n",
    "coefficientOfVariation = 0.10\n",
    "#\n",
    "myAlgoMonteCarlo = MonteCarlo(myEvent)\n",
    "myAlgoMonteCarlo.setMaximumOuterSampling(maximumOuterSampling)\n",
    "myAlgoMonteCarlo.setBlockSize(blockSize)\n",
    "myAlgoMonteCarlo.setMaximumCoefficientOfVariation(coefficientOfVariation)\n",
    "myAlgoMonteCarlo.setConvergenceStrategy(HistoryStrategy(Full()))\n",
    "#\n",
    "myAlgoMonteCarlo.run()"
   ]
  },
  {
   "cell_type": "code",
   "execution_count": 25,
   "metadata": {},
   "outputs": [
    {
     "name": "stdout",
     "output_type": "stream",
     "text": [
      "Number of evaluations of the limit state function =  20000\n",
      "Monte Carlo probability estimation =  0.00505\n",
      "Variance of the Monte Carlo probability estimator =  2.5374027904e-07\n",
      "0.95 Confidence Interval = [ 0.00406271441159 ,  0.00603728558841 ]\n",
      "\n"
     ]
    },
    {
     "data": {
      "text/plain": [
       "<openturns.viewer.View at 0x7fe593115990>"
      ]
     },
     "execution_count": 25,
     "metadata": {},
     "output_type": "execute_result"
    },
    {
     "data": {
      "image/png": "[encoded data removed]",
      "text/plain": [
       "<matplotlib.figure.Figure at 0x7fe598493090>"
      ]
     },
     "metadata": {},
     "output_type": "display_data"
    }
   ],
   "source": [
    "print \"Number of evaluations of the limit state function = \", myAlgoMonteCarlo.getResult().getOuterSampling()* myAlgoMonteCarlo.getResult().getBlockSize() \n",
    "print \"Monte Carlo probability estimation = \", myAlgoMonteCarlo.getResult().getProbabilityEstimate() \n",
    "print \"Variance of the Monte Carlo probability estimator = \", myAlgoMonteCarlo.getResult().getVarianceEstimate() \n",
    "print \"0.95 Confidence Interval = [\", myAlgoMonteCarlo.getResult().getProbabilityEstimate() - 0.5*myAlgoMonteCarlo.getResult().getConfidenceLength(0.95), \", \", myAlgoMonteCarlo.getResult().getProbabilityEstimate() + 0.5*myAlgoMonteCarlo.getResult().getConfidenceLength(0.95), \"]\" \n",
    "print \"\" \n",
    "alpha = 0.90 \n",
    "convergenceGraphMonteCarlo = myAlgoMonteCarlo.drawProbabilityConvergence(alpha) \n",
    "#convergenceGraphMonteCarlo.draw(\"convergenceGrapheMonteCarlo\", 640, 480) \n",
    "\n",
    "\n",
    "#convergence_graph_monte_carlo = algo_monte_carlo.drawProbabilityConvergence(alpha)\n",
    "View(convergenceGraphMonteCarlo)"
   ]
  },
  {
   "cell_type": "markdown",
   "metadata": {},
   "source": [
    "### Reliability analysis using analytical model and MCS"
   ]
  },
  {
   "cell_type": "code",
   "execution_count": 27,
   "metadata": {},
   "outputs": [
    {
     "name": "stdout",
     "output_type": "stream",
     "text": [
      "Number of evaluations of the limit state function =  18500\n",
      "Monte Carlo probability estimation =  0.00551351351351\n",
      "Variance of the Monte Carlo probability estimator =  2.99347146868e-07\n",
      "0.95 Confidence Interval = [ 0.00444116574446 ,  0.00658586128256 ]\n",
      "\n"
     ]
    },
    {
     "data": {
      "image/png": "[encoded data removed]",
      "text/plain": [
       "<matplotlib.figure.Figure at 0x7fe59069d650>"
      ]
     },
     "metadata": {},
     "output_type": "display_data"
    }
   ],
   "source": [
    "X_random_vector = RandomVector(Distribution(myDistribution))\n",
    "G = RandomVector( model, X_random_vector)\n",
    "\n",
    "threshold = 30\n",
    "myEvent = Event(G, ComparisonOperator(Greater()), threshold)\n",
    "myEvent.setName(\"Deviation > 30 cm\")\n",
    "#\n",
    "maximumOuterSampling = 40000\n",
    "blockSize = 100\n",
    "coefficientOfVariation = 0.10\n",
    "#\n",
    "myAlgoMonteCarlo = MonteCarlo(myEvent)\n",
    "myAlgoMonteCarlo.setMaximumOuterSampling(maximumOuterSampling)\n",
    "myAlgoMonteCarlo.setBlockSize(blockSize)\n",
    "myAlgoMonteCarlo.setMaximumCoefficientOfVariation(coefficientOfVariation)\n",
    "myAlgoMonteCarlo.setConvergenceStrategy(HistoryStrategy(Full()))\n",
    "#\n",
    "myAlgoMonteCarlo.run()\n",
    "\n",
    "print \"Number of evaluations of the limit state function = \", myAlgoMonteCarlo.getResult().getOuterSampling()* myAlgoMonteCarlo.getResult().getBlockSize() \n",
    "print \"Monte Carlo probability estimation = \", myAlgoMonteCarlo.getResult().getProbabilityEstimate() \n",
    "print \"Variance of the Monte Carlo probability estimator = \", myAlgoMonteCarlo.getResult().getVarianceEstimate() \n",
    "print \"0.95 Confidence Interval = [\", myAlgoMonteCarlo.getResult().getProbabilityEstimate() - 0.5*myAlgoMonteCarlo.getResult().getConfidenceLength(0.95), \", \", myAlgoMonteCarlo.getResult().getProbabilityEstimate() + 0.5*myAlgoMonteCarlo.getResult().getConfidenceLength(0.95), \"]\" \n",
    "print \"\" \n",
    "alpha = 0.90 \n",
    "convergenceGraphMonteCarlo = myAlgoMonteCarlo.drawProbabilityConvergence(alpha) \n",
    "#convergenceGraphMonteCarlo.draw(\"convergenceGrapheMonteCarlo\", 640, 480) \n",
    "\n",
    "\n",
    "#convergence_graph_monte_carlo = algo_monte_carlo.drawProbabilityConvergence(alpha)\n",
    "View(convergenceGraphMonteCarlo).show()"
   ]
  },
  {
   "cell_type": "code",
   "execution_count": null,
   "metadata": {
    "collapsed": true
   },
   "outputs": [],
   "source": []
  }
 ],
 "metadata": {
  "kernelspec": {
   "display_name": "Python 3",
   "language": "python",
   "name": "python3"
  },
  "language_info": {
   "codemirror_mode": {
    "name": "ipython",
    "version": 3
   },
   "file_extension": ".py",
   "mimetype": "text/x-python",
   "name": "python",
   "nbconvert_exporter": "python",
   "pygments_lexer": "ipython3",
   "version": "3.7.0"
  }
 },
 "nbformat": 4,
 "nbformat_minor": 1
}
